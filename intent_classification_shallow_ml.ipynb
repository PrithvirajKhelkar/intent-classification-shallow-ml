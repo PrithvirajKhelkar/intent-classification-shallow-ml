{
  "nbformat": 4,
  "nbformat_minor": 0,
  "metadata": {
    "colab": {
      "provenance": [],
      "authorship_tag": "ABX9TyPTTlt1X29RbSC0HDLLiw2c",
      "include_colab_link": true
    },
    "kernelspec": {
      "name": "python3",
      "display_name": "Python 3"
    },
    "language_info": {
      "name": "python"
    }
  },
  "cells": [
    {
      "cell_type": "markdown",
      "metadata": {
        "id": "view-in-github",
        "colab_type": "text"
      },
      "source": [
        "<a href=\"https://colab.research.google.com/github/PrithvirajKhelkar/intent-classification-shallow-ml/blob/main/intent_classification_shallow_ml.ipynb\" target=\"_parent\"><img src=\"https://colab.research.google.com/assets/colab-badge.svg\" alt=\"Open In Colab\"/></a>"
      ]
    },
    {
      "cell_type": "markdown",
      "source": [
        "## Import required libraries"
      ],
      "metadata": {
        "id": "PUVqDriBx0hI"
      }
    },
    {
      "cell_type": "code",
      "source": [
        "import pandas as pd\n",
        "import numpy as np\n",
        "import re\n",
        "import nltk\n",
        "from nltk.corpus import stopwords\n",
        "from nltk.stem import PorterStemmer\n",
        "from sklearn.preprocessing import LabelEncoder\n",
        "from keras.preprocessing.text import Tokenizer\n",
        "from tensorflow.keras.preprocessing.sequence import pad_sequences\n",
        "from keras.models import Sequential\n",
        "from keras.layers import LSTM, Dense, Embedding\n",
        "import matplotlib.pyplot as plt"
      ],
      "metadata": {
        "id": "W1g9H08-x3s9"
      },
      "execution_count": 50,
      "outputs": []
    },
    {
      "cell_type": "markdown",
      "source": [
        "## loads the train and test datasets from [here](https://www.kaggle.com/datasets/hassanamin/atis-airlinetravelinformationsystem)"
      ],
      "metadata": {
        "id": "bYzTKBNOyYyR"
      }
    },
    {
      "cell_type": "code",
      "source": [
        "train_df = pd.read_csv('atis_intents_train.csv', names=['intent', 'query'])\n",
        "test_df = pd.read_csv('atis_intents_test.csv', names=['intent', 'query'])\n"
      ],
      "metadata": {
        "id": "QJpuGkHSypo2"
      },
      "execution_count": 51,
      "outputs": []
    },
    {
      "cell_type": "markdown",
      "source": [
        "## Text preprocessing:\n",
        "First downloading the list of stop words from NLTK library, initializing the PorterStemmer object from NLTK, and defining a preprocess() function to clean and normalize the text data. The preprocess() function performs the following operations:\n",
        "* Converts the text to lowercase.\n",
        "* Removes non-alphabetic characters using regular expressions.\n",
        "* Tokenizes the text into words.\n",
        "* Stems each word using PorterStemmer object.\n",
        "* Removes stop words.\n",
        "* Joins the remaining words into a string.\n",
        "* Finally, the preprocessed text is stored in a new column named \"preprocessed_text\" in both train and test dataframes."
      ],
      "metadata": {
        "id": "pK8M3zQ_0Jev"
      }
    },
    {
      "cell_type": "code",
      "source": [
        "# Preprocessing the data\n",
        "nltk.download('stopwords')\n",
        "stop_words = set(stopwords.words('english'))\n",
        "ps = PorterStemmer()\n",
        "\n",
        "def preprocess(text):\n",
        "    text = text.lower()\n",
        "    text = re.sub('[^a-zA-Z]', ' ', text)\n",
        "    words = text.split()\n",
        "    words = [ps.stem(word) for word in words if word not in stop_words]\n",
        "    return ' '.join(words)\n",
        "\n",
        "train_df['preprocessed_text'] = train_df['query'].apply(preprocess)\n",
        "test_df['preprocessed_text'] = test_df['query'].apply(preprocess)"
      ],
      "metadata": {
        "colab": {
          "base_uri": "https://localhost:8080/"
        },
        "id": "RfzuWQiO0Ubj",
        "outputId": "b43e0999-4f8f-4380-a4b1-525f73fd58e1"
      },
      "execution_count": 52,
      "outputs": [
        {
          "output_type": "stream",
          "name": "stderr",
          "text": [
            "[nltk_data] Downloading package stopwords to /root/nltk_data...\n",
            "[nltk_data]   Package stopwords is already up-to-date!\n"
          ]
        }
      ]
    },
    {
      "cell_type": "markdown",
      "source": [
        "* encode the target variable \"intent\" into numerical labels using the LabelEncoder() function from scikit-learn library.\n",
        "* The fit_transform() method is used on the training data to fit the encoder and transform the labels, and the transform() method is used on the test data to transform the labels using the fitted encoder."
      ],
      "metadata": {
        "id": "cBiU-XB920jp"
      }
    },
    {
      "cell_type": "code",
      "source": [
        "le = LabelEncoder()\n",
        "y_train_encoded = le.fit_transform(train_df['intent'])\n",
        "y_test_encoded = le.transform(test_df['intent'])"
      ],
      "metadata": {
        "id": "z2sRZnCC2578"
      },
      "execution_count": 53,
      "outputs": []
    },
    {
      "cell_type": "markdown",
      "source": [
        "* tokenize the preprocessed text data into sequences using the Tokenizer() function from Keras.\n",
        "* The num_words parameter is set to 5000, which means only the top 5000 most frequent words in the dataset will be kept and the rest will be discarded.\n",
        "* The fit_on_texts() method is used on the training data to fit the tokenizer, and the texts_to_sequences() method is used on both training and test data to convert the preprocessed text data into sequences of numerical indices based on the learned vocabulary from the training data."
      ],
      "metadata": {
        "id": "samuGOCW2-Qv"
      }
    },
    {
      "cell_type": "code",
      "source": [
        "tokenizer = Tokenizer(num_words=5000)\n",
        "tokenizer.fit_on_texts(train_df['preprocessed_text'])\n",
        "\n",
        "X_train_seq = tokenizer.texts_to_sequences(train_df['preprocessed_text'])\n",
        "X_test_seq = tokenizer.texts_to_sequences(test_df['preprocessed_text'])"
      ],
      "metadata": {
        "id": "AENgUBim3F3q"
      },
      "execution_count": 54,
      "outputs": []
    },
    {
      "cell_type": "markdown",
      "source": [],
      "metadata": {
        "id": "jexbFjdg3J_h"
      }
    },
    {
      "cell_type": "code",
      "source": [
        "# Padding the sequences\n",
        "max_seq_len = 50\n",
        "X_train_padded = pad_sequences(X_train_seq, maxlen=max_seq_len)\n",
        "X_test_padded = pad_sequences(X_test_seq, maxlen=max_seq_len)\n",
        "\n",
        "print('Shape of X_train_padded:', X_train_padded.shape)\n",
        "print('Shape of y_train_encoded:', y_train_encoded.shape)\n",
        "print('Shape of X_test_padded:', X_test_padded.shape)\n",
        "print('Shape of y_test_encoded:', y_test_encoded.shape)"
      ],
      "metadata": {
        "colab": {
          "base_uri": "https://localhost:8080/"
        },
        "id": "Ol31shND3Rrk",
        "outputId": "2d317588-79a5-4fc5-fb6d-7d0c53625e5b"
      },
      "execution_count": 55,
      "outputs": [
        {
          "output_type": "stream",
          "name": "stdout",
          "text": [
            "Shape of X_train_padded: (4834, 50)\n",
            "Shape of y_train_encoded: (4834,)\n",
            "Shape of X_test_padded: (800, 50)\n",
            "Shape of y_test_encoded: (800,)\n"
          ]
        }
      ]
    },
    {
      "cell_type": "code",
      "source": [
        "# Plotting the distribution of text length in the training data\n",
        "plt.hist([len(x) for x in X_train_seq], bins=50)\n",
        "plt.title('Distribution of text length in training data')\n",
        "plt.xlabel('Length of text')\n",
        "plt.ylabel('Count')\n",
        "plt.show()"
      ],
      "metadata": {
        "id": "lZgOiQMUFZEu",
        "outputId": "bd0fc12d-9edf-4c63-8c7f-8789654b3152",
        "colab": {
          "base_uri": "https://localhost:8080/",
          "height": 295
        }
      },
      "execution_count": 56,
      "outputs": [
        {
          "output_type": "display_data",
          "data": {
            "text/plain": [
              "<Figure size 432x288 with 1 Axes>"
            ],
            "image/png": "[encoded data removed]"
          },
          "metadata": {
            "needs_background": "light"
          }
        }
      ]
    },
    {
      "cell_type": "code",
      "source": [
        "# Defining the LSTM model\n",
        "model = Sequential()\n",
        "model.add(Embedding(input_dim=5000, output_dim=128, input_length=max_seq_len))\n",
        "model.add(LSTM(units=128))\n",
        "model.add(Dense(units=21, activation='softmax'))"
      ],
      "metadata": {
        "id": "MMPpCX1c3TA2"
      },
      "execution_count": 57,
      "outputs": []
    },
    {
      "cell_type": "code",
      "source": [
        "# Compiling the model\n",
        "model.compile(optimizer='adam', loss='sparse_categorical_crossentropy', metrics=['accuracy'])"
      ],
      "metadata": {
        "id": "7V1rU9nr3VzL"
      },
      "execution_count": 58,
      "outputs": []
    },
    {
      "cell_type": "code",
      "source": [
        "# Training the model\n",
        "history = model.fit(X_train_padded, y_train_encoded, validation_data=(X_test_padded, y_test_encoded), epochs=10, batch_size=128)"
      ],
      "metadata": {
        "colab": {
          "base_uri": "https://localhost:8080/"
        },
        "id": "Xzeo5lXo3Ypw",
        "outputId": "b0806d16-2de4-4903-c665-e1f5b5b94489"
      },
      "execution_count": 59,
      "outputs": [
        {
          "output_type": "stream",
          "name": "stdout",
          "text": [
            "Epoch 1/10\n",
            "38/38 [==============================] - 9s 173ms/step - loss: 1.3901 - accuracy: 0.7398 - val_loss: 0.8627 - val_accuracy: 0.7900\n",
            "Epoch 2/10\n",
            "38/38 [==============================] - 7s 181ms/step - loss: 0.9474 - accuracy: 0.7584 - val_loss: 0.8267 - val_accuracy: 0.7900\n",
            "Epoch 3/10\n",
            "38/38 [==============================] - 6s 154ms/step - loss: 0.8058 - accuracy: 0.7704 - val_loss: 0.5721 - val_accuracy: 0.8313\n",
            "Epoch 4/10\n",
            "38/38 [==============================] - 6s 164ms/step - loss: 0.5564 - accuracy: 0.8531 - val_loss: 0.3686 - val_accuracy: 0.8775\n",
            "Epoch 5/10\n",
            "38/38 [==============================] - 6s 157ms/step - loss: 0.3438 - accuracy: 0.9096 - val_loss: 0.2164 - val_accuracy: 0.9300\n",
            "Epoch 6/10\n",
            "38/38 [==============================] - 6s 169ms/step - loss: 0.2933 - accuracy: 0.9129 - val_loss: 0.2187 - val_accuracy: 0.9362\n",
            "Epoch 7/10\n",
            "38/38 [==============================] - 6s 149ms/step - loss: 0.2007 - accuracy: 0.9390 - val_loss: 0.1573 - val_accuracy: 0.9550\n",
            "Epoch 8/10\n",
            "38/38 [==============================] - 6s 167ms/step - loss: 0.1550 - accuracy: 0.9504 - val_loss: 0.1489 - val_accuracy: 0.9563\n",
            "Epoch 9/10\n",
            "38/38 [==============================] - 7s 172ms/step - loss: 0.1593 - accuracy: 0.9586 - val_loss: 0.1684 - val_accuracy: 0.9513\n",
            "Epoch 10/10\n",
            "38/38 [==============================] - 8s 203ms/step - loss: 0.1353 - accuracy: 0.9613 - val_loss: 0.1294 - val_accuracy: 0.9625\n"
          ]
        }
      ]
    },
    {
      "cell_type": "code",
      "source": [
        "# Plotting the accuracy and loss during training\n",
        "plt.plot(history.history['accuracy'], label='training accuracy')\n",
        "plt.plot(history.history['val_accuracy'], label='validation accuracy')\n",
        "plt.title('Accuracy during training')\n",
        "plt.xlabel('Epoch')\n",
        "plt.ylabel('Accuracy')\n",
        "plt.legend()\n",
        "plt.show()\n",
        "\n",
        "plt.plot(history.history['loss'], label='training loss')\n",
        "plt.plot(history.history['val_loss'], label='validation loss')\n",
        "plt.title('Loss during training')\n",
        "plt.xlabel('Epoch')\n",
        "plt.ylabel('Loss')\n",
        "plt.legend()\n",
        "plt.show()"
      ],
      "metadata": {
        "id": "iVbUMI3oFmQd",
        "outputId": "29ddb55e-6aca-4b91-f1da-01044e61e54c",
        "colab": {
          "base_uri": "https://localhost:8080/",
          "height": 573
        }
      },
      "execution_count": 60,
      "outputs": [
        {
          "output_type": "display_data",
          "data": {
            "text/plain": [
              "<Figure size 432x288 with 1 Axes>"
            ],
            "image/png": "[encoded data removed]"
          },
          "metadata": {
            "needs_background": "light"
          }
        },
        {
          "output_type": "display_data",
          "data": {
            "text/plain": [
              "<Figure size 432x288 with 1 Axes>"
            ],
            "image/png": "[encoded data removed]"
          },
          "metadata": {
            "needs_background": "light"
          }
        }
      ]
    },
    {
      "cell_type": "code",
      "source": [
        "# Evaluating the model\n",
        "_, accuracy = model.evaluate(X_test_padded, y_test_encoded)\n",
        "print('Accuracy:', accuracy)"
      ],
      "metadata": {
        "colab": {
          "base_uri": "https://localhost:8080/"
        },
        "id": "uI-8XwnD3cam",
        "outputId": "b0fd7ab3-3d08-45b5-adde-0fd5949fd6c8"
      },
      "execution_count": 61,
      "outputs": [
        {
          "output_type": "stream",
          "name": "stdout",
          "text": [
            "25/25 [==============================] - 1s 22ms/step - loss: 0.1294 - accuracy: 0.9625\n",
            "Accuracy: 0.9624999761581421\n"
          ]
        }
      ]
    }
  ]
}